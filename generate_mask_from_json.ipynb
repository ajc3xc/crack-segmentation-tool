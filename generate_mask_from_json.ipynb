{
 "cells": [
  {
   "cell_type": "code",
   "execution_count": 1,
   "id": "d46e1ad1",
   "metadata": {},
   "outputs": [],
   "source": [
    "import cracktools as ct\n",
    "import matplotlib.pyplot as plt\n",
    "import numpy as np\n",
    "import json\n",
    "from skimage.segmentation import mark_boundaries\n"
   ]
  },
  {
   "cell_type": "code",
   "execution_count": 6,
   "id": "a5cefdd4",
   "metadata": {},
   "outputs": [
    {
     "name": "stdout",
     "output_type": "stream",
     "text": [
      "['C:/Users/20214106/Desktop/cracktools gui/crack images\\\\361.json']\n"
     ]
    }
   ],
   "source": [
    "json_name = 'C:/Users/20214106/Desktop/cracktools gui/crack images/361.json'\n",
    "with open(json_name) as json_file:\n",
    "    data = json.load(json_file)\n",
    "if 'annotations' in data.keys():\n",
    "    if 'crack_pixels' in  data['annotations'].keys():\n",
    "        crack_pixels = data['annotations']['crack_pixels']\n",
    "        mask = np.zeros((image.shape[0],image.shape[1]))\n",
    "        c = np.array(crack_pixels)\n",
    "        mask[list(c[:,0]),list(c[:,1])] = 1\n",
    "        plt.imshow(mask)\n",
    "        plt.show()\n",
    "\n"
   ]
  }
 ],
 "metadata": {
  "kernelspec": {
   "display_name": "base",
   "language": "python",
   "name": "python3"
  },
  "language_info": {
   "codemirror_mode": {
    "name": "ipython",
    "version": 3
   },
   "file_extension": ".py",
   "mimetype": "text/x-python",
   "name": "python",
   "nbconvert_exporter": "python",
   "pygments_lexer": "ipython3",
   "version": "3.9.15"
  },
  "vscode": {
   "interpreter": {
    "hash": "2081760f1c3736c0f23b343f8717a57a2e7acf9e623fea9094d6936a46bdacf7"
   }
  }
 },
 "nbformat": 4,
 "nbformat_minor": 5
}
